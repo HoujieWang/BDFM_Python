{
 "cells": [
  {
   "cell_type": "code",
   "execution_count": null,
   "metadata": {},
   "outputs": [],
   "source": []
  },
  {
   "attachments": {},
   "cell_type": "markdown",
   "metadata": {},
   "source": [
    "I have written a function to compute the transition probabilities using the retrospective means from the bernoulli and poisson distributions. For right now, I have coded it using XXXX\n",
    "\n",
    "However, I can easily modify it to incorporate the \"leader and follower\" idea that Houjie presented a few weeks ago. "
   ]
  },
  {
   "attachments": {},
   "cell_type": "markdown",
   "metadata": {},
   "source": [
    "When we wrote out the expression for the probabilities a while back, we thought we would need marginalize over all vectors $Z \\in [0, 1]^N$, where $N$ is the number of nodes in the network. There are $2^N$ such vectors, which would be computationally taxing. \n",
    "\n",
    "However, most node-node paths are never realized in the data. You'll never see somebody move from Durham to Asheville in a 15 minute time window.\n",
    "\n",
    "Let $N_i$ be set of nodes that ever recieve flow from node $i$ at any point in the data. Let $n_1 = |N_i|$ be the number of such nodes. We effectively must only marginalize over vectors $Z_i \\in [0, 1]^{n_i}$ corresponding to the paths that ever realized. At our current grid specification, $N = 43$, but the largest $n_j$ (for the time period I'm playing with right now) is 4. "
   ]
  },
  {
   "attachments": {},
   "cell_type": "markdown",
   "metadata": {},
   "source": [
    "I first identify all possible vectors $Z_i \\in [0, 1]^{n_i}$. I can caluclate the probabilty of each one my just multiplying $p(Z) = \\prod_{j \\in N_i} p_{ij}^{z_{ij}} (1 - p_{ij})^{1 - z_{ij}}$. \n",
    "\n",
    "QUESTION: I believe I should be excluding the possibility of $z_{ijt} = 0$ for all $j$ at any time $t$. This would mean there are no flows anywhere (not even to the self node, or to the \"external\" node). So I am conditioning on $\\sum_{j \\in N_i} z_{ijt} \\geq 1$. I remove the fully 0 vector from consideration, and then renormalize the probabilities. Let me know if that sounds right!\n",
    "\n",
    "Then I calculate the probabilities of each transition under every possible $Z$ vector according to:\n",
    "\n",
    "Then I integrate out $Z$ through:\n",
    "\n"
   ]
  },
  {
   "attachments": {},
   "cell_type": "markdown",
   "metadata": {},
   "source": [
    "Questions:\n",
    "\n",
    "1) \n",
    "\n",
    "1) How should we evaluate path probabilites when we have missingness at certain time intervals? How do we compare two paths when they have different numbers of observed steps? "
   ]
  },
  {
   "cell_type": "code",
   "execution_count": null,
   "metadata": {},
   "outputs": [],
   "source": [
    "bus_location[8,:]"
   ]
  },
  {
   "cell_type": "code",
   "execution_count": null,
   "metadata": {},
   "outputs": [],
   "source": [
    "bus_location[0,:]"
   ]
  },
  {
   "cell_type": "markdown",
   "metadata": {},
   "source": []
  }
 ],
 "metadata": {
  "language_info": {
   "name": "python"
  },
  "orig_nbformat": 4
 },
 "nbformat": 4,
 "nbformat_minor": 2
}
