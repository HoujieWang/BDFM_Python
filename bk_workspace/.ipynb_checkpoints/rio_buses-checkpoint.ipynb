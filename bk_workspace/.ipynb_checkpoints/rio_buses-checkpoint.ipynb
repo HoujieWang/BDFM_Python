{
 "cells": [
  {
   "cell_type": "code",
   "execution_count": 1,
   "metadata": {},
   "outputs": [],
   "source": [
    "import pandas as pd\n",
    "from dplython import (DplyFrame, X, diamonds, select, sift, sample_n,\n",
    "    sample_frac, head, arrange, mutate, group_by, summarize, DelayFunction)\n",
    "from datetime import datetime, date\n",
    "import matplotlib.pyplot as plt\n",
    "import numpy as np\n",
    "import geopy.distance"
   ]
  },
  {
   "cell_type": "code",
   "execution_count": 2,
   "metadata": {},
   "outputs": [
    {
     "name": "stderr",
     "output_type": "stream",
     "text": [
      "C:\\Users\\brian\\anaconda3\\lib\\site-packages\\ipykernel\\ipkernel.py:287: DeprecationWarning: `should_run_async` will not call `transform_cell` automatically in the future. Please pass the result to `transformed_cell` argument and any exception that happen during thetransform in `preprocessing_exc_tuple` in IPython 7.17 and above.\n",
      "  and should_run_async(code)\n"
     ]
    },
    {
     "ename": "TypeError",
     "evalue": "'tuple' object is not callable",
     "output_type": "error",
     "traceback": [
      "\u001b[1;31m---------------------------------------------------------------------------\u001b[0m",
      "\u001b[1;31mTypeError\u001b[0m                                 Traceback (most recent call last)",
      "\u001b[1;32m<ipython-input-2-e48cb25e0547>\u001b[0m in \u001b[0;36m<module>\u001b[1;34m\u001b[0m\n\u001b[0;32m      1\u001b[0m \u001b[0mdata\u001b[0m \u001b[1;33m=\u001b[0m \u001b[0mpd\u001b[0m\u001b[1;33m.\u001b[0m\u001b[0mread_csv\u001b[0m\u001b[1;33m(\u001b[0m\u001b[1;34m\"rio_buses/bus_gps_data/treatedBusDataOnlyRoute.csv\"\u001b[0m\u001b[1;33m)\u001b[0m\u001b[1;33m\u001b[0m\u001b[1;33m\u001b[0m\u001b[0m\n\u001b[0;32m      2\u001b[0m \u001b[0mdata\u001b[0m \u001b[1;33m=\u001b[0m \u001b[0mDplyFrame\u001b[0m\u001b[1;33m(\u001b[0m\u001b[0mdata\u001b[0m\u001b[1;33m)\u001b[0m\u001b[1;33m\u001b[0m\u001b[1;33m\u001b[0m\u001b[0m\n\u001b[1;32m----> 3\u001b[1;33m \u001b[0mprint\u001b[0m\u001b[1;33m(\u001b[0m\u001b[0mdata\u001b[0m\u001b[1;33m.\u001b[0m\u001b[0mshape\u001b[0m\u001b[1;33m(\u001b[0m\u001b[1;33m)\u001b[0m\u001b[1;33m)\u001b[0m\u001b[1;33m\u001b[0m\u001b[1;33m\u001b[0m\u001b[0m\n\u001b[0m\u001b[0;32m      4\u001b[0m \u001b[1;31m#data = data.sort_values(by = [\"order\", \"date\", \"time\"])\u001b[0m\u001b[1;33m\u001b[0m\u001b[1;33m\u001b[0m\u001b[1;33m\u001b[0m\u001b[0m\n",
      "\u001b[1;31mTypeError\u001b[0m: 'tuple' object is not callable"
     ]
    }
   ],
   "source": [
    "data = pd.read_csv(\"rio_buses/bus_gps_data/treatedBusDataOnlyRoute.csv\")\n",
    "#data = DplyFrame(data)\n",
    "#print(data.shape())\n",
    "#data = data.sort_values(by = [\"order\", \"date\", \"time\"])"
   ]
  },
  {
   "cell_type": "code",
   "execution_count": 45,
   "metadata": {},
   "outputs": [
    {
     "data": {
      "text/html": [
       "<div>\n",
       "<style scoped>\n",
       "    .dataframe tbody tr th:only-of-type {\n",
       "        vertical-align: middle;\n",
       "    }\n",
       "\n",
       "    .dataframe tbody tr th {\n",
       "        vertical-align: top;\n",
       "    }\n",
       "\n",
       "    .dataframe thead th {\n",
       "        text-align: right;\n",
       "    }\n",
       "</style>\n",
       "<table border=\"1\" class=\"dataframe\">\n",
       "  <thead>\n",
       "    <tr style=\"text-align: right;\">\n",
       "      <th></th>\n",
       "      <th>date</th>\n",
       "      <th>time</th>\n",
       "      <th>order</th>\n",
       "      <th>line</th>\n",
       "      <th>latitude</th>\n",
       "      <th>longitude</th>\n",
       "      <th>speed</th>\n",
       "    </tr>\n",
       "  </thead>\n",
       "  <tbody>\n",
       "    <tr>\n",
       "      <th>0</th>\n",
       "      <td>01-25-2019</td>\n",
       "      <td>08:50:39</td>\n",
       "      <td>C51623</td>\n",
       "      <td>371.0</td>\n",
       "      <td>-22.883270</td>\n",
       "      <td>-43.342560</td>\n",
       "      <td>37.0</td>\n",
       "    </tr>\n",
       "    <tr>\n",
       "      <th>1</th>\n",
       "      <td>01-25-2019</td>\n",
       "      <td>08:55:43</td>\n",
       "      <td>C51556</td>\n",
       "      <td>371.0</td>\n",
       "      <td>-22.887461</td>\n",
       "      <td>-43.282730</td>\n",
       "      <td>8.0</td>\n",
       "    </tr>\n",
       "    <tr>\n",
       "      <th>2</th>\n",
       "      <td>01-25-2019</td>\n",
       "      <td>08:56:37</td>\n",
       "      <td>C51641</td>\n",
       "      <td>371.0</td>\n",
       "      <td>-22.884029</td>\n",
       "      <td>-43.342510</td>\n",
       "      <td>19.0</td>\n",
       "    </tr>\n",
       "    <tr>\n",
       "      <th>3</th>\n",
       "      <td>01-25-2019</td>\n",
       "      <td>08:57:24</td>\n",
       "      <td>C51649</td>\n",
       "      <td>371.0</td>\n",
       "      <td>-22.881630</td>\n",
       "      <td>-43.293240</td>\n",
       "      <td>15.0</td>\n",
       "    </tr>\n",
       "    <tr>\n",
       "      <th>4</th>\n",
       "      <td>01-25-2019</td>\n",
       "      <td>08:57:27</td>\n",
       "      <td>C51561</td>\n",
       "      <td>371.0</td>\n",
       "      <td>-22.907370</td>\n",
       "      <td>-43.237610</td>\n",
       "      <td>13.0</td>\n",
       "    </tr>\n",
       "    <tr>\n",
       "      <th>...</th>\n",
       "      <td>...</td>\n",
       "      <td>...</td>\n",
       "      <td>...</td>\n",
       "      <td>...</td>\n",
       "      <td>...</td>\n",
       "      <td>...</td>\n",
       "      <td>...</td>\n",
       "    </tr>\n",
       "    <tr>\n",
       "      <th>59183740</th>\n",
       "      <td>03-21-2019</td>\n",
       "      <td>08:35:04</td>\n",
       "      <td>D13122</td>\n",
       "      <td>383.0</td>\n",
       "      <td>-22.905149</td>\n",
       "      <td>-43.269329</td>\n",
       "      <td>0.0</td>\n",
       "    </tr>\n",
       "    <tr>\n",
       "      <th>59183741</th>\n",
       "      <td>03-21-2019</td>\n",
       "      <td>08:35:06</td>\n",
       "      <td>D13054</td>\n",
       "      <td>383.0</td>\n",
       "      <td>-22.916090</td>\n",
       "      <td>-43.230110</td>\n",
       "      <td>0.0</td>\n",
       "    </tr>\n",
       "    <tr>\n",
       "      <th>59183742</th>\n",
       "      <td>03-21-2019</td>\n",
       "      <td>08:35:08</td>\n",
       "      <td>D13076</td>\n",
       "      <td>383.0</td>\n",
       "      <td>-22.882780</td>\n",
       "      <td>-43.345970</td>\n",
       "      <td>42.0</td>\n",
       "    </tr>\n",
       "    <tr>\n",
       "      <th>59183743</th>\n",
       "      <td>03-21-2019</td>\n",
       "      <td>08:35:12</td>\n",
       "      <td>D13330</td>\n",
       "      <td>383.0</td>\n",
       "      <td>-22.903990</td>\n",
       "      <td>-43.278610</td>\n",
       "      <td>27.0</td>\n",
       "    </tr>\n",
       "    <tr>\n",
       "      <th>59183744</th>\n",
       "      <td>03-21-2019</td>\n",
       "      <td>08:35:23</td>\n",
       "      <td>D13018</td>\n",
       "      <td>383.0</td>\n",
       "      <td>-22.890471</td>\n",
       "      <td>-43.424801</td>\n",
       "      <td>0.0</td>\n",
       "    </tr>\n",
       "  </tbody>\n",
       "</table>\n",
       "<p>59183745 rows × 7 columns</p>\n",
       "</div>"
      ],
      "text/plain": [
       "                date      time   order   line   latitude  longitude  speed\n",
       "0         01-25-2019  08:50:39  C51623  371.0 -22.883270 -43.342560   37.0\n",
       "1         01-25-2019  08:55:43  C51556  371.0 -22.887461 -43.282730    8.0\n",
       "2         01-25-2019  08:56:37  C51641  371.0 -22.884029 -43.342510   19.0\n",
       "3         01-25-2019  08:57:24  C51649  371.0 -22.881630 -43.293240   15.0\n",
       "4         01-25-2019  08:57:27  C51561  371.0 -22.907370 -43.237610   13.0\n",
       "...              ...       ...     ...    ...        ...        ...    ...\n",
       "59183740  03-21-2019  08:35:04  D13122  383.0 -22.905149 -43.269329    0.0\n",
       "59183741  03-21-2019  08:35:06  D13054  383.0 -22.916090 -43.230110    0.0\n",
       "59183742  03-21-2019  08:35:08  D13076  383.0 -22.882780 -43.345970   42.0\n",
       "59183743  03-21-2019  08:35:12  D13330  383.0 -22.903990 -43.278610   27.0\n",
       "59183744  03-21-2019  08:35:23  D13018  383.0 -22.890471 -43.424801    0.0\n",
       "\n",
       "[59183745 rows x 7 columns]"
      ]
     },
     "execution_count": 45,
     "metadata": {},
     "output_type": "execute_result"
    }
   ],
   "source": [
    "# example_line = (data\n",
    "#  >> arrange(X.order, X.date, X.time)\n",
    "#  >> sift(X.order == \"C51623\", X.date == \"01-25-2019\")\n",
    "# )\n",
    "# example_line\n",
    "data"
   ]
  },
  {
   "cell_type": "markdown",
   "metadata": {},
   "source": [
    "### Intervals for Recorded Data\n",
    "\n",
    "We're going to have to deal with the fact that data is not recorded at equally spaced intervals. "
   ]
  },
  {
   "cell_type": "code",
   "execution_count": 46,
   "metadata": {},
   "outputs": [
    {
     "name": "stderr",
     "output_type": "stream",
     "text": [
      "C:\\Users\\brian\\anaconda3\\lib\\site-packages\\ipykernel\\ipkernel.py:287: DeprecationWarning: `should_run_async` will not call `transform_cell` automatically in the future. Please pass the result to `transformed_cell` argument and any exception that happen during thetransform in `preprocessing_exc_tuple` in IPython 7.17 and above.\n",
      "  and should_run_async(code)\n"
     ]
    },
    {
     "data": {
      "text/html": [
       "<div>\n",
       "<style scoped>\n",
       "    .dataframe tbody tr th:only-of-type {\n",
       "        vertical-align: middle;\n",
       "    }\n",
       "\n",
       "    .dataframe tbody tr th {\n",
       "        vertical-align: top;\n",
       "    }\n",
       "\n",
       "    .dataframe thead th {\n",
       "        text-align: right;\n",
       "    }\n",
       "</style>\n",
       "<table border=\"1\" class=\"dataframe\">\n",
       "  <thead>\n",
       "    <tr style=\"text-align: right;\">\n",
       "      <th></th>\n",
       "      <th>date</th>\n",
       "      <th>time</th>\n",
       "      <th>order</th>\n",
       "      <th>line</th>\n",
       "      <th>latitude</th>\n",
       "      <th>longitude</th>\n",
       "      <th>speed</th>\n",
       "    </tr>\n",
       "  </thead>\n",
       "  <tbody>\n",
       "    <tr>\n",
       "      <th>0</th>\n",
       "      <td>01-25-2019</td>\n",
       "      <td>08:50:39</td>\n",
       "      <td>C51623</td>\n",
       "      <td>371.0</td>\n",
       "      <td>-22.883270</td>\n",
       "      <td>-43.342560</td>\n",
       "      <td>37.0</td>\n",
       "    </tr>\n",
       "    <tr>\n",
       "      <th>321</th>\n",
       "      <td>01-25-2019</td>\n",
       "      <td>09:08:12</td>\n",
       "      <td>C51623</td>\n",
       "      <td>371.0</td>\n",
       "      <td>-22.898211</td>\n",
       "      <td>-43.350029</td>\n",
       "      <td>0.0</td>\n",
       "    </tr>\n",
       "    <tr>\n",
       "      <th>347</th>\n",
       "      <td>01-25-2019</td>\n",
       "      <td>09:09:43</td>\n",
       "      <td>C51623</td>\n",
       "      <td>371.0</td>\n",
       "      <td>-22.900921</td>\n",
       "      <td>-43.346779</td>\n",
       "      <td>0.0</td>\n",
       "    </tr>\n",
       "    <tr>\n",
       "      <th>367</th>\n",
       "      <td>01-25-2019</td>\n",
       "      <td>09:10:42</td>\n",
       "      <td>C51623</td>\n",
       "      <td>371.0</td>\n",
       "      <td>-22.901060</td>\n",
       "      <td>-43.346989</td>\n",
       "      <td>0.0</td>\n",
       "    </tr>\n",
       "    <tr>\n",
       "      <th>656</th>\n",
       "      <td>01-25-2019</td>\n",
       "      <td>09:22:44</td>\n",
       "      <td>C51623</td>\n",
       "      <td>371.0</td>\n",
       "      <td>-22.898970</td>\n",
       "      <td>-43.351940</td>\n",
       "      <td>36.0</td>\n",
       "    </tr>\n",
       "    <tr>\n",
       "      <th>...</th>\n",
       "      <td>...</td>\n",
       "      <td>...</td>\n",
       "      <td>...</td>\n",
       "      <td>...</td>\n",
       "      <td>...</td>\n",
       "      <td>...</td>\n",
       "      <td>...</td>\n",
       "    </tr>\n",
       "    <tr>\n",
       "      <th>13997</th>\n",
       "      <td>01-25-2019</td>\n",
       "      <td>18:10:13</td>\n",
       "      <td>C51623</td>\n",
       "      <td>371.0</td>\n",
       "      <td>-22.905411</td>\n",
       "      <td>-43.192699</td>\n",
       "      <td>9.0</td>\n",
       "    </tr>\n",
       "    <tr>\n",
       "      <th>14017</th>\n",
       "      <td>01-25-2019</td>\n",
       "      <td>18:11:13</td>\n",
       "      <td>C51623</td>\n",
       "      <td>371.0</td>\n",
       "      <td>-22.905640</td>\n",
       "      <td>-43.193420</td>\n",
       "      <td>4.0</td>\n",
       "    </tr>\n",
       "    <tr>\n",
       "      <th>14028</th>\n",
       "      <td>01-25-2019</td>\n",
       "      <td>18:11:43</td>\n",
       "      <td>C51623</td>\n",
       "      <td>371.0</td>\n",
       "      <td>-22.905760</td>\n",
       "      <td>-43.193802</td>\n",
       "      <td>3.0</td>\n",
       "    </tr>\n",
       "    <tr>\n",
       "      <th>14069</th>\n",
       "      <td>01-25-2019</td>\n",
       "      <td>18:13:43</td>\n",
       "      <td>C51623</td>\n",
       "      <td>371.0</td>\n",
       "      <td>-22.906790</td>\n",
       "      <td>-43.197121</td>\n",
       "      <td>0.0</td>\n",
       "    </tr>\n",
       "    <tr>\n",
       "      <th>14087</th>\n",
       "      <td>01-25-2019</td>\n",
       "      <td>18:14:43</td>\n",
       "      <td>C51623</td>\n",
       "      <td>371.0</td>\n",
       "      <td>-22.907431</td>\n",
       "      <td>-43.199081</td>\n",
       "      <td>19.0</td>\n",
       "    </tr>\n",
       "  </tbody>\n",
       "</table>\n",
       "<p>276 rows × 7 columns</p>\n",
       "</div>"
      ],
      "text/plain": [
       "             date      time   order   line   latitude  longitude  speed\n",
       "0      01-25-2019  08:50:39  C51623  371.0 -22.883270 -43.342560   37.0\n",
       "321    01-25-2019  09:08:12  C51623  371.0 -22.898211 -43.350029    0.0\n",
       "347    01-25-2019  09:09:43  C51623  371.0 -22.900921 -43.346779    0.0\n",
       "367    01-25-2019  09:10:42  C51623  371.0 -22.901060 -43.346989    0.0\n",
       "656    01-25-2019  09:22:44  C51623  371.0 -22.898970 -43.351940   36.0\n",
       "...           ...       ...     ...    ...        ...        ...    ...\n",
       "13997  01-25-2019  18:10:13  C51623  371.0 -22.905411 -43.192699    9.0\n",
       "14017  01-25-2019  18:11:13  C51623  371.0 -22.905640 -43.193420    4.0\n",
       "14028  01-25-2019  18:11:43  C51623  371.0 -22.905760 -43.193802    3.0\n",
       "14069  01-25-2019  18:13:43  C51623  371.0 -22.906790 -43.197121    0.0\n",
       "14087  01-25-2019  18:14:43  C51623  371.0 -22.907431 -43.199081   19.0\n",
       "\n",
       "[276 rows x 7 columns]"
      ]
     },
     "execution_count": 46,
     "metadata": {},
     "output_type": "execute_result"
    }
   ],
   "source": [
    "example_line"
   ]
  },
  {
   "cell_type": "code",
   "execution_count": 5,
   "metadata": {},
   "outputs": [
    {
     "name": "stderr",
     "output_type": "stream",
     "text": [
      "C:\\Users\\brian\\anaconda3\\lib\\site-packages\\ipykernel\\ipkernel.py:287: DeprecationWarning: `should_run_async` will not call `transform_cell` automatically in the future. Please pass the result to `transformed_cell` argument and any exception that happen during thetransform in `preprocessing_exc_tuple` in IPython 7.17 and above.\n",
      "  and should_run_async(code)\n"
     ]
    },
    {
     "data": {
      "text/plain": [
       "Text(0.5, 1.0, 'Time Between Data Points for C51623 on 01-25-2019')"
      ]
     },
     "execution_count": 5,
     "metadata": {},
     "output_type": "execute_result"
    },
    {
     "data": {
      "image/png": "[encoded data removed]",
      "text/plain": [
       "<Figure size 432x288 with 1 Axes>"
      ]
     },
     "metadata": {
      "needs_background": "light"
     },
     "output_type": "display_data"
    }
   ],
   "source": [
    "time1 = example_line[\"time\"][0:-1].apply(str).apply(lambda x: datetime.strptime(x, '%H:%M:%S'))\n",
    "time2 = example_line[\"time\"][1:].apply(str).apply(lambda x: datetime.strptime(x, '%H:%M:%S'))\n",
    "delta = [x - y for x,y in zip(time2, time1)]\n",
    "thing = [x.total_seconds() / 60 for x in delta]\n",
    "thing\n",
    "\n",
    "# An \"interface\" to matplotlib.axes.Axes.hist() method\n",
    "n, bins, patches = plt.hist(x=thing, bins='auto', color='#0504aa',\n",
    "                            alpha=0.7, rwidth=0.85)\n",
    "plt.grid(axis='y', alpha=0.75)\n",
    "plt.xlabel('Minutes')\n",
    "plt.ylabel('Frequency')\n",
    "plt.title('Time Between Data Points for C51623 on 01-25-2019')"
   ]
  },
  {
   "cell_type": "markdown",
   "metadata": {},
   "source": [
    "### Some Sense for Distances\n",
    "\n",
    "The BAA mentioned calculating the greatest distance covered by a bus. However, since the distance a bus covers on each day is variable, it seemed better to compute sample means and variances. "
   ]
  },
  {
   "cell_type": "code",
   "execution_count": 6,
   "metadata": {},
   "outputs": [],
   "source": [
    "def GetDistance(df):\n",
    "    lat1 = df[\"latitude\"][0:-1]\n",
    "    lat2 = df[\"latitude\"][1:]\n",
    "    lat_diff = [y - x for x, y in zip(lat1, lat2)]\n",
    "\n",
    "    long1 = df[\"longitude\"][0:-1]\n",
    "    long2 = df[\"longitude\"][1:]\n",
    "    long_diff = [y - x for x, y in zip(long1, long2)]\n",
    "\n",
    "    total_distance = sum([np.sqrt(x**2 + y**2) for x, y in zip(lat_diff, long_diff)])\n",
    "    return(total_distance)"
   ]
  },
  {
   "cell_type": "code",
   "execution_count": 7,
   "metadata": {},
   "outputs": [],
   "source": [
    "def GetDistance2(df):\n",
    "    lat1 = df[\"latitude\"][0:-1]\n",
    "    lat2 = df[\"latitude\"][1:]\n",
    "    #lat_diff = [y - x for x, y in zip(lat1, lat2)]\n",
    "\n",
    "    long1 = df[\"longitude\"][0:-1]\n",
    "    long2 = df[\"longitude\"][1:]\n",
    "    #long_diff = [y - x for x, y in zip(long1, long2)]\n",
    "\n",
    "    total_distance = sum([geopy.distance.geodesic((w, x), (y, z)).km for w,x,y,z in zip(lat1, long1, lat2, long2)])\n",
    "    return(total_distance)"
   ]
  },
  {
   "cell_type": "code",
   "execution_count": 37,
   "metadata": {},
   "outputs": [
    {
     "data": {
      "text/plain": [
       "1.0354026831609262"
      ]
     },
     "execution_count": 37,
     "metadata": {},
     "output_type": "execute_result"
    }
   ],
   "source": [
    "GetDistance(example_line)"
   ]
  },
  {
   "cell_type": "code",
   "execution_count": 38,
   "metadata": {},
   "outputs": [],
   "source": [
    "distances = grouped_data.apply(GetDistance2)"
   ]
  },
  {
   "cell_type": "code",
   "execution_count": 39,
   "metadata": {},
   "outputs": [],
   "source": [
    "avg_dist = distances.groupby('order').apply(np.mean)\n",
    "var_dist = distances.groupby('order').apply(np.var)"
   ]
  },
  {
   "cell_type": "code",
   "execution_count": 40,
   "metadata": {},
   "outputs": [
    {
     "data": {
      "image/png": "[encoded data removed]",
      "text/plain": [
       "<Figure size 432x288 with 1 Axes>"
      ]
     },
     "metadata": {
      "needs_background": "light"
     },
     "output_type": "display_data"
    }
   ],
   "source": [
    "names = avg_dist.index\n",
    "plt.scatter(names, avg_dist)\n",
    "plt.xticks([])\n",
    "plt.xlabel('Bus Lines')\n",
    "plt.ylabel('Average Distance')\n",
    "plt.title('Average Distance Covered by Each Bus Line')\n",
    "plt.show()"
   ]
  },
  {
   "cell_type": "code",
   "execution_count": 41,
   "metadata": {},
   "outputs": [
    {
     "data": {
      "image/png": "[encoded data removed]",
      "text/plain": [
       "<Figure size 432x288 with 1 Axes>"
      ]
     },
     "metadata": {
      "needs_background": "light"
     },
     "output_type": "display_data"
    }
   ],
   "source": [
    "names = avg_dist.index\n",
    "plt.scatter(names, var_dist)\n",
    "plt.xticks([])\n",
    "plt.xlabel('Bus Lines')\n",
    "plt.ylabel('Variance')\n",
    "plt.title('Variance in Distance Covered by Each Bus Line')\n",
    "plt.show()"
   ]
  },
  {
   "cell_type": "code",
   "execution_count": 44,
   "metadata": {},
   "outputs": [
    {
     "ename": "TypeError",
     "evalue": "'Series' objects are mutable, thus they cannot be hashed",
     "output_type": "error",
     "traceback": [
      "\u001b[1;31m---------------------------------------------------------------------------\u001b[0m",
      "\u001b[1;31mTypeError\u001b[0m                                 Traceback (most recent call last)",
      "\u001b[1;32m<ipython-input-44-49830c5c4f82>\u001b[0m in \u001b[0;36m<module>\u001b[1;34m\u001b[0m\n\u001b[1;32m----> 1\u001b[1;33m \u001b[1;33m{\u001b[0m\u001b[0mdata\u001b[0m\u001b[1;33m[\u001b[0m\u001b[1;34m\"order\"\u001b[0m\u001b[1;33m]\u001b[0m\u001b[1;33m}\u001b[0m\u001b[1;33m\u001b[0m\u001b[1;33m\u001b[0m\u001b[0m\n\u001b[0m",
      "\u001b[1;32m~\\anaconda3\\lib\\site-packages\\pandas\\core\\generic.py\u001b[0m in \u001b[0;36m__hash__\u001b[1;34m(self)\u001b[0m\n\u001b[0;32m   1666\u001b[0m \u001b[1;33m\u001b[0m\u001b[0m\n\u001b[0;32m   1667\u001b[0m     \u001b[1;32mdef\u001b[0m \u001b[0m__hash__\u001b[0m\u001b[1;33m(\u001b[0m\u001b[0mself\u001b[0m\u001b[1;33m)\u001b[0m\u001b[1;33m:\u001b[0m\u001b[1;33m\u001b[0m\u001b[1;33m\u001b[0m\u001b[0m\n\u001b[1;32m-> 1668\u001b[1;33m         raise TypeError(\n\u001b[0m\u001b[0;32m   1669\u001b[0m             \u001b[1;34mf\"{repr(type(self).__name__)} objects are mutable, \"\u001b[0m\u001b[1;33m\u001b[0m\u001b[1;33m\u001b[0m\u001b[0m\n\u001b[0;32m   1670\u001b[0m             \u001b[1;34mf\"thus they cannot be hashed\"\u001b[0m\u001b[1;33m\u001b[0m\u001b[1;33m\u001b[0m\u001b[0m\n",
      "\u001b[1;31mTypeError\u001b[0m: 'Series' objects are mutable, thus they cannot be hashed"
     ]
    }
   ],
   "source": [
    "{data[\"order\"]}"
   ]
  }
 ],
 "metadata": {
  "kernelspec": {
   "display_name": "Python 3 (ipykernel)",
   "language": "python",
   "name": "python3"
  },
  "language_info": {
   "codemirror_mode": {
    "name": "ipython",
    "version": 3
   },
   "file_extension": ".py",
   "mimetype": "text/x-python",
   "name": "python",
   "nbconvert_exporter": "python",
   "pygments_lexer": "ipython3",
   "version": "3.9.13"
  }
 },
 "nbformat": 4,
 "nbformat_minor": 4
}
